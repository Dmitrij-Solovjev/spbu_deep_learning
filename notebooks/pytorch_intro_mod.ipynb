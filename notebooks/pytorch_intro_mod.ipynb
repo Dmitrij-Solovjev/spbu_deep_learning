{
 "cells": [
  {
   "cell_type": "markdown",
   "id": "eb07947b",
   "metadata": {},
   "source": [
    "# Введение в Pytorch\n"
   ]
  },
  {
   "cell_type": "markdown",
   "id": "f7ae15d0",
   "metadata": {},
   "source": [
    "В этом курсе мы по большей части будем пользоваться pytorch.\n",
    "Этот фреймворк во многом похож на numpy, главное его отлисие в том, что он может считать градиенты с помощью своего autograd модуля. Еще одно отличие - он поддерживает gpu.\n",
    "\n",
    "План ноутбука:\n",
    "1) основные операции\n",
    "2) тензоры\n",
    "3) градиенты\n",
    "2) пайплайн обучения"
   ]
  },
  {
   "cell_type": "markdown",
   "metadata": {
    "collapsed": false
   },
   "source": [
    "# Основные операции"
   ]
  },
  {
   "cell_type": "code",
   "execution_count": 67,
   "id": "b82238f7",
   "metadata": {
    "collapsed": false
   },
   "outputs": [],
   "source": [
    "import numpy as np\n",
    "import torch\n",
    "from matplotlib import pyplot as plt\n",
    "#from urllib3.util.wait import select_wait_for_socket\n",
    "#pd.set_option('display.max_rows', 500)\n",
    "\n"
   ]
  },
  {
   "cell_type": "code",
   "execution_count": 68,
   "id": "e4f66a9b",
   "metadata": {
    "collapsed": false
   },
   "outputs": [
    {
     "data": {
      "text/plain": [
       "array([[0.61779551, 0.53464115, 0.96482852],\n",
       "       [0.84085121, 0.6898485 , 0.07919313],\n",
       "       [0.40126645, 0.6883784 , 0.1403913 ],\n",
       "       [0.46960401, 0.10322768, 0.56586951],\n",
       "       [0.31349915, 0.0033706 , 0.67904916]])"
      ]
     },
     "execution_count": 68,
     "metadata": {},
     "output_type": "execute_result"
    }
   ],
   "source": [
    "a = np.random.rand(5, 3)\n",
    "a"
   ]
  },
  {
   "cell_type": "code",
   "execution_count": 69,
   "id": "4684d7c5",
   "metadata": {
    "collapsed": false
   },
   "outputs": [
    {
     "data": {
      "text/plain": [
       "array([[5.61779551, 5.53464115, 5.96482852],\n",
       "       [5.84085121, 5.6898485 , 5.07919313],\n",
       "       [5.40126645, 5.6883784 , 5.1403913 ],\n",
       "       [5.46960401, 5.10322768, 5.56586951],\n",
       "       [5.31349915, 5.0033706 , 5.67904916]])"
      ]
     },
     "execution_count": 69,
     "metadata": {},
     "output_type": "execute_result"
    }
   ],
   "source": [
    "a + 5"
   ]
  },
  {
   "cell_type": "code",
   "execution_count": 70,
   "id": "5030c4fe",
   "metadata": {
    "collapsed": false
   },
   "outputs": [
    {
     "data": {
      "text/plain": [
       "array([[3.81671298e-01, 2.85841160e-01, 9.30894079e-01],\n",
       "       [7.07030765e-01, 4.75890954e-01, 6.27155220e-03],\n",
       "       [1.61014764e-01, 4.73864824e-01, 1.97097182e-02],\n",
       "       [2.20527929e-01, 1.06559545e-02, 3.20208298e-01],\n",
       "       [9.82817155e-02, 1.13609659e-05, 4.61107756e-01]])"
      ]
     },
     "execution_count": 70,
     "metadata": {},
     "output_type": "execute_result"
    }
   ],
   "source": [
    "a ** 2"
   ]
  },
  {
   "cell_type": "code",
   "execution_count": 71,
   "id": "361ab6b3",
   "metadata": {
    "collapsed": false
   },
   "outputs": [
    {
     "data": {
      "text/plain": [
       "(5, 3)"
      ]
     },
     "execution_count": 71,
     "metadata": {},
     "output_type": "execute_result"
    }
   ],
   "source": [
    "a.shape"
   ]
  },
  {
   "cell_type": "code",
   "execution_count": 72,
   "id": "b9e0bbf9",
   "metadata": {
    "collapsed": false
   },
   "outputs": [
    {
     "data": {
      "text/plain": [
       "array([0.61779551, 0.53464115, 0.96482852, 0.84085121, 0.6898485 ,\n",
       "       0.07919313, 0.40126645, 0.6883784 , 0.1403913 , 0.46960401,\n",
       "       0.10322768, 0.56586951, 0.31349915, 0.0033706 , 0.67904916])"
      ]
     },
     "execution_count": 72,
     "metadata": {},
     "output_type": "execute_result"
    }
   ],
   "source": [
    "a.flatten()"
   ]
  },
  {
   "cell_type": "code",
   "execution_count": 73,
   "id": "733b9fcc",
   "metadata": {
    "collapsed": false
   },
   "outputs": [
    {
     "data": {
      "text/plain": [
       "array([[0.61779551],\n",
       "       [0.53464115],\n",
       "       [0.96482852],\n",
       "       [0.84085121],\n",
       "       [0.6898485 ],\n",
       "       [0.07919313],\n",
       "       [0.40126645],\n",
       "       [0.6883784 ],\n",
       "       [0.1403913 ],\n",
       "       [0.46960401],\n",
       "       [0.10322768],\n",
       "       [0.56586951],\n",
       "       [0.31349915],\n",
       "       [0.0033706 ],\n",
       "       [0.67904916]])"
      ]
     },
     "execution_count": 73,
     "metadata": {},
     "output_type": "execute_result"
    }
   ],
   "source": [
    "a.reshape(-1, 1)"
   ]
  },
  {
   "cell_type": "code",
   "execution_count": 74,
   "id": "cd11e502",
   "metadata": {},
   "outputs": [
    {
     "data": {
      "text/plain": [
       "array([[0.61779551, 0.84085121, 0.40126645, 0.46960401, 0.31349915],\n",
       "       [0.53464115, 0.6898485 , 0.6883784 , 0.10322768, 0.0033706 ],\n",
       "       [0.96482852, 0.07919313, 0.1403913 , 0.56586951, 0.67904916]])"
      ]
     },
     "execution_count": 74,
     "metadata": {},
     "output_type": "execute_result"
    }
   ],
   "source": [
    "a.swapaxes(1, 0)"
   ]
  },
  {
   "cell_type": "code",
   "execution_count": 75,
   "id": "f1206295",
   "metadata": {},
   "outputs": [
    {
     "data": {
      "text/plain": [
       "array([[0.96482852, 0.07919313, 0.1403913 , 0.56586951, 0.67904916],\n",
       "       [0.53464115, 0.6898485 , 0.6883784 , 0.10322768, 0.0033706 ],\n",
       "       [0.61779551, 0.84085121, 0.40126645, 0.46960401, 0.31349915]])"
      ]
     },
     "execution_count": 75,
     "metadata": {},
     "output_type": "execute_result"
    }
   ],
   "source": [
    "np.rot90(a)"
   ]
  },
  {
   "cell_type": "code",
   "execution_count": 76,
   "id": "9dcc1f58",
   "metadata": {
    "collapsed": false
   },
   "outputs": [],
   "source": [
    "b = np.random.rand(7, 5)"
   ]
  },
  {
   "cell_type": "code",
   "execution_count": 77,
   "id": "7d22ae10",
   "metadata": {
    "collapsed": false
   },
   "outputs": [
    {
     "data": {
      "text/plain": [
       "array([[0.53396491, 1.19680623, 1.44630463, 0.77874501, 1.976036  ,\n",
       "        1.70756328, 1.6839375 ],\n",
       "       [0.29149336, 0.9242355 , 1.34802728, 0.64414867, 1.65971033,\n",
       "        1.55125084, 1.37831892],\n",
       "       [0.6668791 , 1.07085535, 1.32873235, 0.64337384, 1.46863539,\n",
       "        1.6120764 , 1.70326243]])"
      ]
     },
     "execution_count": 77,
     "metadata": {},
     "output_type": "execute_result"
    }
   ],
   "source": [
    "a.T @ b.T\n"
   ]
  },
  {
   "cell_type": "markdown",
   "id": "c4b5dae1",
   "metadata": {
    "collapsed": false
   },
   "source": [
    "Задача 1: напишите функцию, которая принимает на вход вектор размера n и возвращает значения функции $2log(x^2) - 1.5 sqrt(x) + x^{1/2}$"
   ]
  },
  {
   "cell_type": "code",
   "execution_count": 78,
   "id": "fcab3188",
   "metadata": {
    "collapsed": false
   },
   "outputs": [],
   "source": [
    "# your code\n",
    "def calc_f(x):\n",
    "    return 2 * np.log(x*x) - 1.5*np.sqrt(x) + x**(1/2)"
   ]
  },
  {
   "cell_type": "markdown",
   "id": "14c86116",
   "metadata": {
    "collapsed": false
   },
   "source": [
    "Задача 2: Посчитайте сумму значений функции из 1 задачи для натуральных чисел с 1 до 300"
   ]
  },
  {
   "cell_type": "code",
   "execution_count": 79,
   "id": "47130773",
   "metadata": {
    "collapsed": false
   },
   "outputs": [
    {
     "data": {
      "text/plain": [
       "3923.345205492068"
      ]
     },
     "execution_count": 79,
     "metadata": {},
     "output_type": "execute_result"
    }
   ],
   "source": [
    "# your code\n",
    "np.sum(calc_f(np.arange(1,301,1)))"
   ]
  },
  {
   "cell_type": "markdown",
   "id": "08320cca",
   "metadata": {
    "collapsed": false
   },
   "source": [
    "Cинтаксис в torch очень похож на numpy, однако с некоторыми отличиями"
   ]
  },
  {
   "cell_type": "code",
   "execution_count": 80,
   "id": "51daa9cd",
   "metadata": {
    "collapsed": false
   },
   "outputs": [
    {
     "data": {
      "text/plain": [
       "tensor([[0.5241, 0.6910, 0.5091],\n",
       "        [0.8101, 0.5675, 0.1360],\n",
       "        [0.3908, 0.1962, 0.3009],\n",
       "        [0.9083, 0.7610, 0.8276],\n",
       "        [0.7501, 0.1130, 0.3430]])"
      ]
     },
     "execution_count": 80,
     "metadata": {},
     "output_type": "execute_result"
    }
   ],
   "source": [
    "a = torch.rand(5,3)\n",
    "a"
   ]
  },
  {
   "cell_type": "code",
   "execution_count": 81,
   "id": "3fb62488",
   "metadata": {
    "collapsed": false
   },
   "outputs": [
    {
     "data": {
      "text/plain": [
       "tensor([[0.2747, 0.4775, 0.2592],\n",
       "        [0.6562, 0.3220, 0.0185],\n",
       "        [0.1527, 0.0385, 0.0906],\n",
       "        [0.8251, 0.5791, 0.6848],\n",
       "        [0.5626, 0.0128, 0.1176]])"
      ]
     },
     "execution_count": 81,
     "metadata": {},
     "output_type": "execute_result"
    }
   ],
   "source": [
    "a**2"
   ]
  },
  {
   "cell_type": "code",
   "execution_count": 82,
   "id": "926ad8f9",
   "metadata": {
    "collapsed": false
   },
   "outputs": [
    {
     "data": {
      "text/plain": [
       "torch.Size([5, 3])"
      ]
     },
     "execution_count": 82,
     "metadata": {},
     "output_type": "execute_result"
    }
   ],
   "source": [
    "a.size()"
   ]
  },
  {
   "cell_type": "code",
   "execution_count": 83,
   "id": "e94e0be2",
   "metadata": {
    "collapsed": false
   },
   "outputs": [
    {
     "data": {
      "text/plain": [
       "tensor([0.5241, 0.6910, 0.5091, 0.8101, 0.5675, 0.1360, 0.3908, 0.1962, 0.3009,\n",
       "        0.9083, 0.7610, 0.8276, 0.7501, 0.1130, 0.3430])"
      ]
     },
     "execution_count": 83,
     "metadata": {},
     "output_type": "execute_result"
    }
   ],
   "source": [
    "a.flatten()"
   ]
  },
  {
   "cell_type": "code",
   "execution_count": 84,
   "id": "0a7af70c",
   "metadata": {
    "collapsed": false
   },
   "outputs": [],
   "source": [
    "# Возвращает новый тензор с теми же данными, что и self тензор, но другого типа shape.\n",
    "a = a.view(-1,1)"
   ]
  },
  {
   "cell_type": "code",
   "execution_count": 85,
   "id": "c4e9976e",
   "metadata": {
    "collapsed": false
   },
   "outputs": [
    {
     "name": "stderr",
     "output_type": "stream",
     "text": [
      "/home/dima/Документы/Першин_Никольская_Нейронные_сети/myvenv/lib/python3.12/site-packages/torch/_tensor.py:889: UserWarning: non-inplace resize is deprecated\n",
      "  warnings.warn(\"non-inplace resize is deprecated\")\n"
     ]
    }
   ],
   "source": [
    "a = a.resize(5, 3)"
   ]
  },
  {
   "cell_type": "code",
   "execution_count": 86,
   "id": "6c7da413",
   "metadata": {
    "collapsed": false
   },
   "outputs": [
    {
     "data": {
      "text/plain": [
       "tensor([[0.5241, 0.6910, 0.5091],\n",
       "        [0.8101, 0.5675, 0.1360],\n",
       "        [0.3908, 0.1962, 0.3009],\n",
       "        [0.9083, 0.7610, 0.8276],\n",
       "        [0.7501, 0.1130, 0.3430]])"
      ]
     },
     "execution_count": 86,
     "metadata": {},
     "output_type": "execute_result"
    }
   ],
   "source": [
    "a"
   ]
  },
  {
   "cell_type": "code",
   "execution_count": 87,
   "id": "2b4b5875",
   "metadata": {
    "collapsed": false
   },
   "outputs": [
    {
     "data": {
      "text/plain": [
       "tensor([[[0.5241, 0.6910, 0.5091],\n",
       "         [0.8101, 0.5675, 0.1360],\n",
       "         [0.3908, 0.1962, 0.3009],\n",
       "         [0.9083, 0.7610, 0.8276],\n",
       "         [0.7501, 0.1130, 0.3430]]])"
      ]
     },
     "execution_count": 87,
     "metadata": {},
     "output_type": "execute_result"
    }
   ],
   "source": [
    "a.unsqueeze(0)"
   ]
  },
  {
   "cell_type": "code",
   "execution_count": 88,
   "id": "9f683668",
   "metadata": {
    "collapsed": false
   },
   "outputs": [],
   "source": [
    "b = torch.rand(7,5)"
   ]
  },
  {
   "cell_type": "code",
   "execution_count": 89,
   "id": "02297f2e",
   "metadata": {
    "collapsed": false
   },
   "outputs": [
    {
     "data": {
      "text/plain": [
       "tensor([[2.4707, 1.5806, 2.2653, 1.9653, 1.4838, 1.8879, 1.9476],\n",
       "        [1.5476, 0.8929, 1.3681, 1.4330, 0.8260, 1.3206, 1.1413],\n",
       "        [1.3030, 0.9948, 1.2318, 1.0367, 1.0686, 1.1642, 1.0070]])"
      ]
     },
     "execution_count": 89,
     "metadata": {},
     "output_type": "execute_result"
    }
   ],
   "source": [
    "a.T @ b.T"
   ]
  },
  {
   "cell_type": "code",
   "execution_count": 90,
   "id": "bd89c95c",
   "metadata": {
    "collapsed": false
   },
   "outputs": [
    {
     "data": {
      "text/plain": [
       "tensor([[2.4707, 1.5476, 1.3030],\n",
       "        [1.5806, 0.8929, 0.9948],\n",
       "        [2.2653, 1.3681, 1.2318],\n",
       "        [1.9653, 1.4330, 1.0367],\n",
       "        [1.4838, 0.8260, 1.0686],\n",
       "        [1.8879, 1.3206, 1.1642],\n",
       "        [1.9476, 1.1413, 1.0070]])"
      ]
     },
     "execution_count": 90,
     "metadata": {},
     "output_type": "execute_result"
    }
   ],
   "source": [
    "# Matrix Multiply\n",
    "torch.matmul(b, a)"
   ]
  },
  {
   "cell_type": "code",
   "execution_count": 91,
   "id": "bcb2344f",
   "metadata": {
    "collapsed": false
   },
   "outputs": [],
   "source": [
    "b = torch.rand(3,1,4,1,5)"
   ]
  },
  {
   "cell_type": "code",
   "execution_count": 92,
   "id": "67173338",
   "metadata": {
    "collapsed": false
   },
   "outputs": [
    {
     "data": {
      "text/plain": [
       "torch.Size([3, 4, 5])"
      ]
     },
     "execution_count": 92,
     "metadata": {},
     "output_type": "execute_result"
    }
   ],
   "source": [
    "b.squeeze().shape"
   ]
  },
  {
   "cell_type": "code",
   "execution_count": 93,
   "id": "da127a99",
   "metadata": {
    "collapsed": false
   },
   "outputs": [
    {
     "data": {
      "text/plain": [
       "torch.Size([3, 4, 1, 5])"
      ]
     },
     "execution_count": 93,
     "metadata": {},
     "output_type": "execute_result"
    }
   ],
   "source": [
    "b.squeeze(1).shape"
   ]
  },
  {
   "cell_type": "markdown",
   "id": "3e61c244",
   "metadata": {
    "collapsed": false
   },
   "source": [
    "Задача 3. напишите функцию на torch, которая принимает на вход вектор размера n и возвращает значения функции $2log(x^2) - 1.5 sqrt(x) + x^{1/2}$"
   ]
  },
  {
   "cell_type": "code",
   "execution_count": 94,
   "id": "64255521",
   "metadata": {
    "collapsed": false
   },
   "outputs": [],
   "source": [
    "# your code\n",
    "def calc_f(x):\n",
    "    return 2 * torch.log(x * x) - 1.5 * torch.sqrt(x) + torch.pow(x, 0.5)"
   ]
  },
  {
   "cell_type": "markdown",
   "id": "c094284b",
   "metadata": {
    "collapsed": false
   },
   "source": [
    "Задача 4: Посчитайте сумму значений функции из 3 задачи для натуральных чисел с 1 до 300"
   ]
  },
  {
   "cell_type": "code",
   "execution_count": 95,
   "id": "f7c527d1",
   "metadata": {
    "collapsed": false
   },
   "outputs": [
    {
     "data": {
      "text/plain": [
       "tensor(3923.3452)"
      ]
     },
     "execution_count": 95,
     "metadata": {},
     "output_type": "execute_result"
    }
   ],
   "source": [
    "torch.sum(calc_f(torch.arange(1,301,1)))"
   ]
  },
  {
   "cell_type": "markdown",
   "id": "9ef97120",
   "metadata": {
    "collapsed": false
   },
   "source": [
    " Другие варианты создать тензор"
   ]
  },
  {
   "cell_type": "code",
   "execution_count": 96,
   "id": "46a0e34c",
   "metadata": {
    "collapsed": false
   },
   "outputs": [],
   "source": [
    "a = torch.empty(5,2)\n",
    "b = torch.zeros(6,1, dtype=torch.bool)\n",
    "c = torch.ones_like(b)"
   ]
  },
  {
   "cell_type": "markdown",
   "id": "b69178f5",
   "metadata": {
    "collapsed": false
   },
   "source": [
    "Тензор можно создать и из другого объекта. Как думаете, какой тип будет у результирующего тензора?"
   ]
  },
  {
   "cell_type": "code",
   "execution_count": 97,
   "id": "1f4b066a",
   "metadata": {
    "collapsed": false
   },
   "outputs": [],
   "source": [
    "d = torch.tensor([5,3.4])"
   ]
  },
  {
   "cell_type": "code",
   "execution_count": 98,
   "id": "5278cba1",
   "metadata": {
    "collapsed": false
   },
   "outputs": [
    {
     "data": {
      "text/plain": [
       "torch.float32"
      ]
     },
     "execution_count": 98,
     "metadata": {},
     "output_type": "execute_result"
    }
   ],
   "source": [
    "d.dtype"
   ]
  },
  {
   "cell_type": "markdown",
   "id": "08ad4883",
   "metadata": {
    "collapsed": false
   },
   "source": [
    "Torch легко переводится в numpy и наоборот. Из-за разницы типов результат не будет идентичным, но он будет достаточно близким к исходному."
   ]
  },
  {
   "cell_type": "code",
   "execution_count": 99,
   "id": "83c50472",
   "metadata": {
    "collapsed": false
   },
   "outputs": [
    {
     "data": {
      "text/plain": [
       "True"
      ]
     },
     "execution_count": 99,
     "metadata": {},
     "output_type": "execute_result"
    }
   ],
   "source": [
    "a = np.ones((3, 5))\n",
    "x = torch.ones((3, 5))\n",
    "np.allclose(x.numpy(), a)"
   ]
  },
  {
   "cell_type": "markdown",
   "id": "cee15fe4",
   "metadata": {
    "collapsed": false
   },
   "source": [
    "# Градиенты\n",
    "Рассмотрим достаточно простой датасет"
   ]
  },
  {
   "cell_type": "code",
   "execution_count": 100,
   "id": "79be7c26",
   "metadata": {
    "collapsed": false
   },
   "outputs": [],
   "source": [
    "x1 = torch.arange(-15, 15, 0.1)\n",
    "x2 = torch.arange(-15, 15, 0.1) / 5\n",
    "x = torch.stack([x1, x2], dim=1)\n",
    "y = x[:,0] * 2. + 0.2 * x[:, 1]**2 - 3 + torch.normal(0., 0.2, (1, 300))"
   ]
  },
  {
   "cell_type": "code",
   "execution_count": 101,
   "id": "d7e22df8",
   "metadata": {
    "collapsed": false
   },
   "outputs": [
    {
     "data": {
      "text/plain": [
       "<matplotlib.collections.PathCollection at 0x7f427fdb6c90>"
      ]
     },
     "execution_count": 101,
     "metadata": {},
     "output_type": "execute_result"
    },
    {
     "data": {
      "image/png": "[encoded data removed]",
      "text/plain": [
       "<Figure size 640x480 with 1 Axes>"
      ]
     },
     "metadata": {},
     "output_type": "display_data"
    }
   ],
   "source": [
    "plt.scatter(x[:, 0], y)"
   ]
  },
  {
   "cell_type": "markdown",
   "id": "70399c4c",
   "metadata": {
    "collapsed": false
   },
   "source": [
    "Доп.задание. Изобразите поверхность на 3d-графике"
   ]
  },
  {
   "cell_type": "code",
   "execution_count": 102,
   "id": "5bea54c0",
   "metadata": {},
   "outputs": [
    {
     "data": {
      "image/png": "[encoded data removed]",
      "text/plain": [
       "<Figure size 640x480 with 1 Axes>"
      ]
     },
     "metadata": {},
     "output_type": "display_data"
    }
   ],
   "source": [
    "from mpl_toolkits import mplot3d\n",
    "import numpy as np\n",
    "import matplotlib.pyplot as plt\n",
    "\n",
    "fig = plt.figure()\n",
    " \n",
    "# syntax for 3-D projection\n",
    "ax = plt.axes(projection ='3d')\n",
    "\n",
    "ax.plot3D(x[:, 0], x[:, 1], y, 'green')\n",
    "ax.set_title('3D line plot geeks for geeks')\n",
    "plt.show()"
   ]
  },
  {
   "cell_type": "markdown",
   "id": "60dbb893",
   "metadata": {
    "collapsed": false
   },
   "source": [
    "В PyTorch при создании тензора можно указать, нужно ли считать по нему градиент или нет, с помощью параметра requires_grad.\n",
    "Если requires_grad=False, то это просто массив с числами, посчитать dx/dy не выйдет.\n",
    "Если же requires_grad=True, то фреймворк будит учитывать этот тензор при построении графа вычислений производной.\n",
    "Например, станет возможно посчитать d(sin(log(x**2) - 3x))/dx.\n",
    "\n",
    "Как происходит отслеживание градиента? Ответ достаточно простой: у каждого тензора на ссамом деле есть параметр .grad, который и хранит градиенты. У тех тензоров, к которым градиент неприменим, grad=None.\n",
    "\n",
    "Что еще интереснее - у тех тензоров, через которые проходят вычисления, появляется параметр grad_fn. Например, у резултата a + b grad_fn будет AddBackward."
   ]
  },
  {
   "cell_type": "code",
   "execution_count": 103,
   "id": "671a8eb8",
   "metadata": {
    "collapsed": false
   },
   "outputs": [],
   "source": [
    "a = torch.rand(5,2, requires_grad=True)\n",
    "b = torch.rand(2, 1, requires_grad=True)"
   ]
  },
  {
   "cell_type": "markdown",
   "id": "03cb8ed6",
   "metadata": {},
   "source": [
    "f(x) = a @ b\n",
    "\n",
    "b.grad.data = df/db"
   ]
  },
  {
   "cell_type": "code",
   "execution_count": 104,
   "id": "a87a755e",
   "metadata": {
    "collapsed": false
   },
   "outputs": [
    {
     "data": {
      "text/plain": [
       "tensor(1.7549, grad_fn=<SumBackward0>)"
      ]
     },
     "execution_count": 104,
     "metadata": {},
     "output_type": "execute_result"
    }
   ],
   "source": [
    "res = (a @ b).sum()\n",
    "res"
   ]
  },
  {
   "cell_type": "code",
   "execution_count": 105,
   "id": "4dd6b9b0",
   "metadata": {
    "collapsed": false
   },
   "outputs": [
    {
     "name": "stdout",
     "output_type": "stream",
     "text": [
      "None\n"
     ]
    }
   ],
   "source": [
    "print(a.grad)"
   ]
  },
  {
   "cell_type": "code",
   "execution_count": 106,
   "id": "9dc2abf5",
   "metadata": {},
   "outputs": [
    {
     "data": {
      "text/plain": [
       "<SumBackward0 at 0x7f427fe61540>"
      ]
     },
     "execution_count": 106,
     "metadata": {},
     "output_type": "execute_result"
    }
   ],
   "source": [
    "res.grad_fn"
   ]
  },
  {
   "cell_type": "markdown",
   "id": "ad9fa5ed",
   "metadata": {
    "collapsed": false
   },
   "source": [
    "А как же получить значения градиентов? Тензоры что-то содержат, операции все известны."
   ]
  },
  {
   "cell_type": "code",
   "execution_count": 107,
   "id": "97e93d0a",
   "metadata": {
    "collapsed": false
   },
   "outputs": [],
   "source": [
    "res.backward()"
   ]
  },
  {
   "cell_type": "code",
   "execution_count": 108,
   "id": "4d6d8768",
   "metadata": {
    "collapsed": false
   },
   "outputs": [
    {
     "data": {
      "text/plain": [
       "tensor([[1.2880],\n",
       "        [3.1709]])"
      ]
     },
     "execution_count": 108,
     "metadata": {},
     "output_type": "execute_result"
    }
   ],
   "source": [
    "b.grad.data"
   ]
  },
  {
   "cell_type": "markdown",
   "id": "4a72a896",
   "metadata": {
    "collapsed": false
   },
   "source": [
    "Перейдем к нашим данным. Попробуем обучить простую линейную модель с помощью градиентного спуска."
   ]
  },
  {
   "cell_type": "code",
   "execution_count": 109,
   "id": "5b66589d",
   "metadata": {
    "collapsed": false
   },
   "outputs": [],
   "source": [
    "w = torch.rand(1, 2, requires_grad=True)\n",
    "b = torch.rand(1, requires_grad=True)\n",
    "y_pred = w @ x.T + b\n",
    "loss = torch.mean((y_pred - y) ** 2)\n",
    "loss.backward()"
   ]
  },
  {
   "cell_type": "code",
   "execution_count": 110,
   "id": "39126eca",
   "metadata": {},
   "outputs": [
    {
     "data": {
      "text/plain": [
       "tensor([0.7641], requires_grad=True)"
      ]
     },
     "execution_count": 110,
     "metadata": {},
     "output_type": "execute_result"
    }
   ],
   "source": [
    "b"
   ]
  },
  {
   "cell_type": "code",
   "execution_count": 111,
   "id": "f955cd47",
   "metadata": {
    "collapsed": false
   },
   "outputs": [
    {
     "data": {
      "text/plain": [
       "<matplotlib.collections.PathCollection at 0x7f427fe62060>"
      ]
     },
     "execution_count": 111,
     "metadata": {},
     "output_type": "execute_result"
    },
    {
     "data": {
      "image/png": "[encoded data removed]",
      "text/plain": [
       "<Figure size 640x480 with 1 Axes>"
      ]
     },
     "metadata": {},
     "output_type": "display_data"
    }
   ],
   "source": [
    "plt.scatter(x[:, 0], y)\n",
    "plt.scatter(x[:, 0], y_pred.detach().numpy())"
   ]
  },
  {
   "cell_type": "markdown",
   "id": "5e3bea22",
   "metadata": {
    "collapsed": false
   },
   "source": [
    "Пока не слишком похоже на то, что мы хотим. Для того, чтобы изменения применились, нужно сделать шаг градиентного спуска."
   ]
  },
  {
   "cell_type": "markdown",
   "id": "386e1c64",
   "metadata": {
    "collapsed": false
   },
   "source": [
    "**Задание**. Проведите 100 итераций градиентного спуска для данного набора.\n",
    "Для этого надо вспомнить, как выглядит этот алгоритм для линейной регрессии"
   ]
  },
  {
   "cell_type": "code",
   "execution_count": 112,
   "id": "43477769",
   "metadata": {
    "collapsed": false
   },
   "outputs": [
    {
     "data": {
      "text/plain": [
       "<matplotlib.collections.PathCollection at 0x7f427fb33140>"
      ]
     },
     "execution_count": 112,
     "metadata": {},
     "output_type": "execute_result"
    },
    {
     "data": {
      "image/png": "[encoded data removed]",
      "text/plain": [
       "<Figure size 640x480 with 1 Axes>"
      ]
     },
     "metadata": {},
     "output_type": "display_data"
    }
   ],
   "source": [
    "w = torch.rand(1, 2, requires_grad=True)\n",
    "b = torch.rand(1, requires_grad=True)\n",
    "\n",
    "for i in range(100):\n",
    "#    print(i)\n",
    "    y_pred = w @ x.T + b\n",
    "    loss = torch.mean((y_pred - y) ** 2)\n",
    "    w.retain_grad()\n",
    "    loss.backward()\n",
    "#    print(w, w.grad.data)\n",
    "    w = w - w.grad.data * 0.001\n",
    "#    print(w)\n",
    "#    w.grad.data.zero_()\n",
    "#    print(w)\n",
    "    \n",
    "    # your code: adjust w and b using gradient descent\n",
    "    # Every iteration you need to set gradients to zero (or you will get unexpected results).\n",
    "    # This is done by .grad.data.zero_()\n",
    "plt.scatter(x[:, 0], y)\n",
    "plt.scatter(x[:, 0], y_pred.detach().numpy())"
   ]
  },
  {
   "cell_type": "markdown",
   "id": "7302150d",
   "metadata": {},
   "source": [
    "# Пайплайн обучения\n",
    "Импортируем torch.nn - тут находятся классы, реализующие слои, лоссы, функции ошибок и тд. \n",
    "Для примера я использую стандартный датасет для компьютерного зрения - MNIST - содержащий цифры от 0 до 9 в разном написании. Поэтому импортируются некоторые подмодули torchvision\n"
   ]
  },
  {
   "cell_type": "code",
   "execution_count": 113,
   "id": "bf7c9b27",
   "metadata": {},
   "outputs": [],
   "source": [
    "import torch\n",
    "from torch import nn\n",
    "from torch.utils.data import DataLoader, Dataset\n",
    "from torchvision import datasets\n",
    "from torchvision.transforms import ToTensor\n",
    "from matplotlib import pyplot as plt"
   ]
  },
  {
   "cell_type": "code",
   "execution_count": 114,
   "id": "45ad1ada",
   "metadata": {},
   "outputs": [],
   "source": [
    "import os\n",
    "import pandas as pd\n",
    "from torchvision.io import read_image\n"
   ]
  },
  {
   "cell_type": "markdown",
   "id": "54aebe5f",
   "metadata": {},
   "source": [
    "# Создание датасета"
   ]
  },
  {
   "cell_type": "markdown",
   "id": "71d937ef",
   "metadata": {},
   "source": [
    "Pytorch позволяет использовать открытые датасеты с хаба. Они все являются подклассами `torch.utils.data.Dataset` и имплементируют методы, специфичные для этого класса данных. Обычно они используются для прототипирования и бенчмаркинга и могут быть загружены по необходимости. Однако если для задачи необxодимо что-то кроме предполагаемой разработчиками функциональности, нужно либо отнаследовать один из них, либо напрямую `torch.utils.data.Dataset`.\n",
    "\n",
    "Давайте загрузим FashionMNIST (https://github.com/zalandoresearch/fashion-mnist) - один из таких простых бенчмарк-датасетов для компьютерного зрения. Каждый семпл - это черно-белое изображение размером 28х28 с каким-то предметом одежды и ассоциированным классом. Всего набор содержит 60000 + 10000 изображений и 10 классов.\n"
   ]
  },
  {
   "cell_type": "code",
   "execution_count": 115,
   "id": "84744d19",
   "metadata": {},
   "outputs": [],
   "source": [
    "train_data = datasets.FashionMNIST(\n",
    "    root=\"data\",\n",
    "    train=True,\n",
    "    download=True,\n",
    "    transform=ToTensor(),\n",
    ")\n",
    "\n",
    "# Download test data from open datasets.\n",
    "test_data = datasets.FashionMNIST(\n",
    "    root=\"data\",\n",
    "    train=False,\n",
    "    download=True,\n",
    "    transform=ToTensor(),\n",
    ")"
   ]
  },
  {
   "cell_type": "code",
   "execution_count": 116,
   "id": "cdfc853a",
   "metadata": {},
   "outputs": [],
   "source": [
    "labels_map = {\n",
    "    0: \"T-Shirt\",\n",
    "    1: \"Trouser\",\n",
    "    2: \"Pullover\",\n",
    "    3: \"Dress\",\n",
    "    4: \"Coat\",\n",
    "    5: \"Sandal\",\n",
    "    6: \"Shirt\",\n",
    "    7: \"Sneaker\",\n",
    "    8: \"Bag\",\n",
    "    9: \"Ankle Boot\",\n",
    "}"
   ]
  },
  {
   "cell_type": "code",
   "execution_count": 117,
   "id": "dc9d3d8f",
   "metadata": {},
   "outputs": [],
   "source": [
    "def plot_samples(data, labels_map, cols=3, rows=3):\n",
    "    figure = plt.figure(figsize=(8, 8))\n",
    "    for i in range(1, cols * rows + 1):\n",
    "        sample_idx = torch.randint(len(data), size=(1,)).item()\n",
    "        img, label = data[sample_idx]\n",
    "        figure.add_subplot(rows, cols, i)\n",
    "        if type(label) == torch.Tensor:\n",
    "            plt.title(labels_map[label.item()])\n",
    "        else:\n",
    "            plt.title(labels_map[label])\n",
    "        plt.axis(\"off\")\n",
    "        plt.imshow(img.squeeze(), cmap=\"gray\")\n",
    "    plt.show()"
   ]
  },
  {
   "cell_type": "code",
   "execution_count": 118,
   "id": "6f1c8745",
   "metadata": {},
   "outputs": [
    {
     "data": {
      "image/png": "[encoded data removed]",
      "text/plain": [
       "<Figure size 800x800 with 9 Axes>"
      ]
     },
     "metadata": {},
     "output_type": "display_data"
    }
   ],
   "source": [
    "plot_samples(train_data, labels_map, cols=3, rows=3)"
   ]
  },
  {
   "cell_type": "markdown",
   "id": "9a33dc57",
   "metadata": {},
   "source": [
    "Каждый датасет в Pytorch должен наследоваться от класса Dataset и обязательно имплементировать методы `__init__, __len__, __getitem__`. В `__init__` обычно кроме прочего определяются трансформации, которые будут применяться к данным. Это может быть преобразование PIL.Image в тензоры, добавление шума, сдвиги и т.д. \n",
    "Pytorch предоставляет большое количество трансформаций, но наиболее популярная и удобная библиотека, реализующая трансформации для изображений - *albumentations*. \n",
    "\n",
    "`__len__` - должна возвращать размер датасета (например, чисо строк в файле с аннотациями)\n",
    "\n",
    "`__getitem__` - должен возвращать семпл данных, например, вектор признаков и y. Однако он может возвращать еще и дополнительную информацию, например, y может состоять из набора bboxoв и  сегментационных масок для детекции, класса изображения итп. Обычно возвращается tuple. В целом, возвращаться может любая структура, которую можно представить как набор тензоров, соответствующих одному семплу и входу модели.\n",
    "Внутри этого метода может происходить загрузка семпла, его трансформации и другие необходимые манипуляции. Очевидно, что он может возвращать не только изображение, но и любые другие данные, и временные ряды, и табличные данные, и облака точек, и другое. \n"
   ]
  },
  {
   "cell_type": "markdown",
   "id": "d59d78bb",
   "metadata": {},
   "source": [
    "Давайте реализуем такой датасет для FashionMNIST. Конечно, можно было бы спокойно использовать встроенный, но так не интересно )"
   ]
  },
  {
   "cell_type": "code",
   "execution_count": 119,
   "id": "9022c5a5",
   "metadata": {},
   "outputs": [],
   "source": [
    "from torchvision.datasets.mnist import read_image_file, read_label_file"
   ]
  },
  {
   "cell_type": "code",
   "execution_count": 120,
   "id": "5df545a3",
   "metadata": {},
   "outputs": [],
   "source": [
    "class FashionMNISTDataset(Dataset):\n",
    "    def __init__(self, file_dir, train=True, transform=None, target_transform=None):\n",
    "        self.transform = transform\n",
    "        self.target_transform = target_transform\n",
    "        self.train = train\n",
    "        image_file = f\"{'train' if self.train else 't10k'}-images-idx3-ubyte\"\n",
    "        self.data = read_image_file(os.path.join(file_dir, image_file))\n",
    "\n",
    "        label_file = f\"{'train' if self.train else 't10k'}-labels-idx1-ubyte\"\n",
    "        self.targets = read_label_file(os.path.join(file_dir, label_file))\n",
    "\n",
    "    def __len__(self):\n",
    "        return len(self.data)\n",
    "\n",
    "    def __getitem__(self, idx):\n",
    "        image = self.data[idx]\n",
    "        label = self.targets[idx]\n",
    "        \n",
    "        if self.transform:\n",
    "            image = self.transform(image)\n",
    "        if self.target_transform:\n",
    "            label = self.target_transform(label)\n",
    "        return image, label"
   ]
  },
  {
   "cell_type": "markdown",
   "id": "fe6238b7",
   "metadata": {
    "collapsed": false
   },
   "source": [
    "Проинициализируйте ваш новый датасет так же, как и ранее встроенный."
   ]
  },
  {
   "cell_type": "code",
   "execution_count": 121,
   "id": "3d648b9e",
   "metadata": {},
   "outputs": [],
   "source": [
    "train_data = FashionMNISTDataset(\n",
    "    file_dir=\"/home/dima/Документы/Першин_Никольская_Нейронные_сети/spbu_deep_learning/datasets/Fashion-MNIST/\",\n",
    "    train=True,\n",
    "    #transform=ToTensor(),\n",
    ")\n",
    "test_data = FashionMNISTDataset(\n",
    "    file_dir=\"/home/dima/Документы/Першин_Никольская_Нейронные_сети/spbu_deep_learning/datasets/Fashion-MNIST/\",\n",
    "    train=False,\n",
    "    #transform=ToTensor(),\n",
    ")"
   ]
  },
  {
   "cell_type": "code",
   "execution_count": 122,
   "id": "9d8e5055",
   "metadata": {},
   "outputs": [
    {
     "data": {
      "image/png": "[encoded data removed]",
      "text/plain": [
       "<Figure size 800x800 with 9 Axes>"
      ]
     },
     "metadata": {},
     "output_type": "display_data"
    }
   ],
   "source": [
    "plot_samples(train_data, labels_map, cols=3, rows=3)"
   ]
  },
  {
   "cell_type": "markdown",
   "id": "f7354c09",
   "metadata": {},
   "source": [
    "Датасет возвращает один семпл за раз, однако часто наши мощности позволяют обрабатывать больше данных. При работе с таблицами обыно модель получает на вход вообще весь набор сразу или достаточно большими порциями. Когда речь заходит о тензорах и наборах с сотнями тысяч и даже миллионами семплов, это невозможно. На помощь приходит батчевая обработка, когда из датасета берутся небольшие порции данных за раз (используя индекс). За соединение семплов во вход модели отвечает класс DataLoader. Каждую эпоху данные шаффлятся, чтобы уменьшить переобучение. "
   ]
  },
  {
   "cell_type": "code",
   "execution_count": 123,
   "id": "6920b94f",
   "metadata": {},
   "outputs": [],
   "source": [
    "train_dataloader = DataLoader(train_data, batch_size=64, shuffle=True)\n",
    "test_dataloader = DataLoader(test_data, batch_size=64, shuffle=True)"
   ]
  },
  {
   "cell_type": "code",
   "execution_count": 124,
   "id": "15214288",
   "metadata": {},
   "outputs": [
    {
     "name": "stdout",
     "output_type": "stream",
     "text": [
      "Feature batch shape: torch.Size([64, 28, 28])\n",
      "Labels batch shape: torch.Size([64])\n"
     ]
    },
    {
     "data": {
      "image/png": "[encoded data removed]",
      "text/plain": [
       "<Figure size 640x480 with 1 Axes>"
      ]
     },
     "metadata": {},
     "output_type": "display_data"
    },
    {
     "name": "stdout",
     "output_type": "stream",
     "text": [
      "Label: 4\n"
     ]
    }
   ],
   "source": [
    "train_features, train_labels = next(iter(train_dataloader))\n",
    "print(f\"Feature batch shape: {train_features.size()}\")\n",
    "print(f\"Labels batch shape: {train_labels.size()}\")\n",
    "img = train_features[0].squeeze().reshape(28,28)\n",
    "label = train_labels[0]\n",
    "plt.imshow(img, cmap=\"gray\")\n",
    "plt.show()\n",
    "print(f\"Label: {label}\")"
   ]
  },
  {
   "cell_type": "markdown",
   "id": "fcf84e10",
   "metadata": {},
   "source": [
    "Глубокое обучение чаще всего связывают с GPU, и не зря. Имея дело с тензорами и тензорными вычислениями, мы производим огромное количество элементарных операций. Каждое ядро CPU способно произвести только одно вычисление за такт. GPU был создан для обработки графики, где требуется также большое количество простых вычислений, и поэтому может ускорить обработку данных в тысячи раз. Это все должно быть хорошо Вам известно из других курсов)\n",
    "\n",
    "К сожалению, часто компьютер не поддерживает вычисления на GPU, например, у него просто нет дискретной видеокарты. Pytorch позволяет проводить все операции на CPU, так что его можно использовать где угодно.\n",
    "\n"
   ]
  },
  {
   "cell_type": "code",
   "execution_count": 125,
   "id": "188d5e11",
   "metadata": {},
   "outputs": [
    {
     "name": "stdout",
     "output_type": "stream",
     "text": [
      "Using cpu device\n"
     ]
    }
   ],
   "source": [
    "device = \"cuda\" if torch.cuda.is_available() else \"cpu\"\n",
    "print(f\"Using {device} device\")\n"
   ]
  },
  {
   "cell_type": "markdown",
   "id": "1c77c6be",
   "metadata": {},
   "source": [
    "*Дополнительное задание: адаптируйте весь код для `accelerate`. Это очень удобная библиотека для адаптации PyTorch кода для любой распределенной конфигурации. Кроме того, она позволяет упростить работу, даже если нам нужно перенести вычисления на GPU или CPU, автоматизируя этот процесс (иначе нам нужно постоянно вызывать `.to(device)`)*\n",
    "*Для этого импортируйте нужный Accelerator из accelerate. Далее достаточно вызвать accelerator.prepare(elements)*"
   ]
  },
  {
   "cell_type": "markdown",
   "id": "c2f9aa77",
   "metadata": {},
   "source": [
    "Теперь создадим класс модели и интстанциируем её. В данном случае это простой перцептрон с тремя слоями. Однако модель может быть сколько угодно сложной. Главное, чтобы она наследовала класс `nn.Module`. Более того, можно написать любой слой собственноручно, также отнаследовав этот класс.\n",
    "Каждая модель должна имплементировать два метода - `__init__` и `forward(self, *args, **kwargs)`. В первом обычно задается ее структура и другие параметры. Модель  может даже содержать другие модели!\n",
    "\n",
    "`forward` получает на вход Х, но он может получать несколько разных входов, маски и тд. Обычно возвращаются либо выходы с последнего слоя (один или несколько). Но, например, стандартные модели детекции возвращают в режиме обучения значение лосса, а непосредственные предсказания только в режиме тестирования.\n",
    "\n",
    "Вызывая `model(data)`, на самом деле мы вызываем именно метод `forward`"
   ]
  },
  {
   "cell_type": "markdown",
   "id": "bc1e538f",
   "metadata": {},
   "source": [
    "Для того, чтобы понять, как устроен слой в Pytorch, создадим простой слой для превращения изображения в вектор.\n",
    "Пусть это будет класс MyFlatten. Изображения (и, что более актуально, промежуточные представления или, иными словами, карты, внутри модели) изначально имеют размер N x C x H x W, где:\n",
    "\n",
    "N - число семплов в батче\n",
    "C - число каналов на входе в конкретный слой. Если вход с 3 каналами, это 3, но в середине модели это может быть любое число, например, 128.\n",
    "H - высота карты\n",
    "W - ширина карты\n",
    "\n",
    "Когда мы делаем что-то вроде двумерной свертки, это стандартное представление данных, которое позволяет восстановить пространственные зависимости между элементами карты. Однако, когда мы используем полносвязные модели, каждый семпл представлен единым вектором. В простом случае больше не нужно разделять разные каналы, строки и столбцы данных. Таким образом, мы используем операцию \"вытянуть в вектор\", чтобы превратить значения C x H x W в представление C * H * W. "
   ]
  },
  {
   "cell_type": "markdown",
   "id": "73d4040a",
   "metadata": {},
   "source": [
    "**Задание**: допишите класс MyFlatten. Этот слой при вызове должен принимать на вход тензор размера B x C x H x W и возвращать тензор размера B x [C * H * W]. Пример: батч картинок 2 x 3(rgb) x 16(h) x 16(w)] -> 2 x 768"
   ]
  },
  {
   "cell_type": "code",
   "execution_count": 1,
   "id": "6874d66c",
   "metadata": {},
   "outputs": [
    {
     "ename": "NameError",
     "evalue": "name 'nn' is not defined",
     "output_type": "error",
     "traceback": [
      "\u001b[0;31m---------------------------------------------------------------------------\u001b[0m",
      "\u001b[0;31mNameError\u001b[0m                                 Traceback (most recent call last)",
      "Cell \u001b[0;32mIn[1], line 1\u001b[0m\n\u001b[0;32m----> 1\u001b[0m \u001b[38;5;28;01mclass\u001b[39;00m \u001b[38;5;21;01mMyFlatten\u001b[39;00m(\u001b[43mnn\u001b[49m\u001b[38;5;241m.\u001b[39mModule):\n\u001b[1;32m      2\u001b[0m     \u001b[38;5;28;01mdef\u001b[39;00m \u001b[38;5;21m__init__\u001b[39m(\u001b[38;5;28mself\u001b[39m, \u001b[38;5;241m*\u001b[39margs, \u001b[38;5;241m*\u001b[39m\u001b[38;5;241m*\u001b[39mkwargs):\n\u001b[1;32m      3\u001b[0m         \u001b[38;5;28msuper\u001b[39m()\u001b[38;5;241m.\u001b[39m\u001b[38;5;21m__init__\u001b[39m(\u001b[38;5;241m*\u001b[39margs, \u001b[38;5;241m*\u001b[39m\u001b[38;5;241m*\u001b[39mkwargs)\n",
      "\u001b[0;31mNameError\u001b[0m: name 'nn' is not defined"
     ]
    }
   ],
   "source": [
    "class MyFlatten(nn.Module):\n",
    "    def __init__(self, *args, **kwargs):\n",
    "        super().__init__(*args, **kwargs)\n",
    "    \n",
    "    def __call__(self, tensor: torch.Tensor, *args, **kwargs):\n",
    "        return tensor.view(tensor.size(0), -1)"
   ]
  },
  {
   "cell_type": "code",
   "execution_count": 127,
   "id": "276275b8",
   "metadata": {},
   "outputs": [
    {
     "name": "stdout",
     "output_type": "stream",
     "text": [
      "NeuralNetwork(\n",
      "  (flatten): MyFlatten()\n",
      "  (fc): Sequential(\n",
      "    (0): Linear(in_features=784, out_features=512, bias=True)\n",
      "    (1): ReLU()\n",
      "    (2): Linear(in_features=512, out_features=512, bias=True)\n",
      "    (3): ReLU()\n",
      "    (4): Linear(in_features=512, out_features=10, bias=True)\n",
      "  )\n",
      ")\n"
     ]
    }
   ],
   "source": [
    "class NeuralNetwork(nn.Module):\n",
    "    def __init__(self, softmax=False):\n",
    "        super().__init__()\n",
    "        self.softmax = softmax\n",
    "        self.flatten = MyFlatten()\n",
    "        self.fc = nn.Sequential(\n",
    "            nn.Linear(28*28, 512),\n",
    "            nn.ReLU(),\n",
    "            nn.Linear(512, 512),\n",
    "            nn.ReLU(),\n",
    "            nn.Linear(512, 10)\n",
    "        )\n",
    "\n",
    "    def forward(self, x):\n",
    "        x = self.flatten(x)\n",
    "        logits = self.fc(x)\n",
    "        if self.softmax:\n",
    "            return torch.log_softmax(logits, dim=1)\n",
    "        else:\n",
    "            return logits\n",
    "\n",
    "model = NeuralNetwork().to(device)\n",
    "print(model)"
   ]
  },
  {
   "cell_type": "markdown",
   "id": "2e4083c3",
   "metadata": {},
   "source": [
    "Слои: http://pytorch.org/docs/nn.html\n",
    "\n",
    "Активации: http://pytorch.org/docs/nn.html#non-linear-activations"
   ]
  },
  {
   "cell_type": "markdown",
   "id": "1eba191e",
   "metadata": {},
   "source": [
    "Зададим функцию ошибки и оптимизатор. Функция ошибки также наследуется от torch.nn.Module и может быть стандартной, состоять как из нескольких стандартных функций или их модификаций. Большое количество функций ошибки уже реализовано в Pytorch.\n",
    "\n",
    "Внутри каждой итерации обучения оптимизация происходит в три этапа:\n",
    "Вызов optimizer.zero_grad() для обнуления градиентов параметров модели. Градиенты по умолчанию складываются; чтобы избежать двойного подсчета, мы явно обнуляем их на каждой итерации.\n",
    "\n",
    "Получение градиентов для каждого веса с помощью loss.backward().\n",
    "Как только мы получили наши градиенты, остается вызвать optimizer.step(), чтобы изменить параметры в соответствии с нашим алгоритмом оптимизации. "
   ]
  },
  {
   "cell_type": "code",
   "execution_count": 128,
   "id": "eec223a3",
   "metadata": {},
   "outputs": [],
   "source": [
    "loss_fn = nn.CrossEntropyLoss()\n",
    "optimizer = torch.optim.SGD(model.parameters(), lr=1e-3)"
   ]
  },
  {
   "cell_type": "markdown",
   "id": "51ae01c0",
   "metadata": {},
   "source": [
    "Задание: \n",
    "1) Выберите как минимум еще 2 разные функции ошибки из https://pytorch.org/docs/stable/nn.html#loss-functions и обучите модель с ними\n",
    "2) Выберите как минимум еще 1 оптимизатор из https://pytorch.org/docs/stable/optim.html и обучите каждую из моделей с ним\n",
    "\n",
    "В результате у вас должна получиться таблица с лучшими значениями лосса для каждого случая для обучения и теста. В идеале оформите их в виде pandas.DataFrame или другой таблицы с удобным выводом."
   ]
  },
  {
   "cell_type": "markdown",
   "id": "075289cb",
   "metadata": {},
   "source": [
    "Обучим модель. Для этого нужно описать цикл обучения и проверки модели. В наивном случае создается две функции train и validate (test), которые вызываются в цикле по эпохам. В дальнейшем, при усложнении прохода по эпохе, может появиться метод train, целый класс Trainer и т.д. Пока что реализуем наивный вариант."
   ]
  },
  {
   "cell_type": "code",
   "execution_count": 129,
   "id": "8931bac2",
   "metadata": {},
   "outputs": [],
   "source": [
    "def train(dataloader, model, loss_fn, optimizer):\n",
    "    size = len(dataloader.dataset)\n",
    "    \n",
    "    model.train()\n",
    "\n",
    "    min_loss = float(\"inf\")\n",
    "    for batch_idx, (inputs, targets) in enumerate(dataloader):\n",
    "        inputs, targets = inputs.to(device), targets.to(device)\n",
    "\n",
    "        # Compute prediction error\n",
    "        preds = model(inputs.float())\n",
    "        loss = loss_fn(preds, targets)\n",
    "        if loss < min_loss:\n",
    "            min_loss = loss\n",
    "        \n",
    "        # Backpropagation\n",
    "        optimizer.zero_grad()\n",
    "        loss.backward()\n",
    "        optimizer.step()\n",
    "\n",
    "        if batch_idx % 100 == 0:\n",
    "            loss, current = loss.item(), (batch_idx + 1) * len(preds)\n",
    "            print(f\"loss: {loss:>7f}  [{current:>5d}/{size:>5d}]\")\n",
    "            \n",
    "        ''' Чтобы сделать задание со сравнением лоссов, не забудьте \n",
    "            реализовать трекинг минимального лосса  '''\n",
    "    print(f'Min loss: {min_loss:>5f}')\n",
    "    return min_loss"
   ]
  },
  {
   "cell_type": "code",
   "execution_count": 130,
   "id": "289e5cbe",
   "metadata": {},
   "outputs": [],
   "source": [
    "from sklearn.metrics import precision_score, recall_score\n",
    "\n",
    "def test(dataloader, model, loss_fn):\n",
    "    size = len(dataloader.dataset)\n",
    "    num_batches = len(dataloader)\n",
    "    model.eval()\n",
    "    test_loss, num_correct = 0, 0\n",
    "    all_preds = []\n",
    "    all_targets = []\n",
    "    \n",
    "    with torch.no_grad():\n",
    "        for inputs, targets in dataloader:\n",
    "            inputs, targets = inputs.to(device), targets.to(device)\n",
    "            preds = model(inputs.float())\n",
    "            num_correct += (preds.argmax(1) == targets).type(torch.float).sum().item()\n",
    "            test_loss += loss_fn(preds, targets).item()\n",
    "            \n",
    "            # Store predictions and targets for metrics computation\n",
    "            all_preds.extend(preds.argmax(1).cpu().numpy())\n",
    "            all_targets.extend(targets.cpu().numpy())\n",
    "    \n",
    "    test_loss /= num_batches\n",
    "    num_correct /= size\n",
    "    \n",
    "    # Compute precision and recall\n",
    "    precision = precision_score(all_targets, all_preds, average='weighted', zero_division=np.nan)\n",
    "    recall = recall_score(all_targets, all_preds, average='weighted', zero_division=np.nan)\n",
    "\n",
    "    print(f\"Test Error: \\n Accuracy: {(100*num_correct):>0.1f}%, Avg loss: {test_loss:>8f}\")\n",
    "    print(f\"Precision: {100*precision:>0.1f}%, Recall: {100*recall:>0.1f}% \\n\")\n",
    "    return test_loss"
   ]
  },
  {
   "cell_type": "markdown",
   "id": "873bd8ea",
   "metadata": {},
   "source": [
    "Задание: Добавьте метрики precision и recall для проверки"
   ]
  },
  {
   "cell_type": "code",
   "execution_count": 131,
   "id": "dc99a7ef",
   "metadata": {},
   "outputs": [
    {
     "name": "stdout",
     "output_type": "stream",
     "text": [
      "Epoch 1\n",
      "-------------------------------\n",
      "loss: 12.858505  [   64/60000]\n",
      "loss: 0.695686  [ 6464/60000]\n",
      "loss: 0.877123  [12864/60000]\n",
      "loss: 0.558227  [19264/60000]\n",
      "loss: 0.593712  [25664/60000]\n",
      "loss: 0.504197  [32064/60000]\n",
      "loss: 0.502132  [38464/60000]\n",
      "loss: 0.594343  [44864/60000]\n",
      "loss: 0.382891  [51264/60000]\n",
      "loss: 0.305174  [57664/60000]\n",
      "Min loss: 0.142318\n",
      "Test Error: \n",
      " Accuracy: 83.7%, Avg loss: 0.469348\n",
      "Precision: 83.7%, Recall: 83.7% \n",
      "\n",
      "Epoch 2\n",
      "-------------------------------\n",
      "loss: 0.514548  [   64/60000]\n",
      "loss: 0.431400  [ 6464/60000]\n",
      "loss: 0.186606  [12864/60000]\n",
      "loss: 0.368716  [19264/60000]\n",
      "loss: 0.349123  [25664/60000]\n",
      "loss: 0.471867  [32064/60000]\n",
      "loss: 0.382511  [38464/60000]\n",
      "loss: 0.647976  [44864/60000]\n",
      "loss: 0.460503  [51264/60000]\n",
      "loss: 0.485528  [57664/60000]\n",
      "Min loss: 0.131496\n",
      "Test Error: \n",
      " Accuracy: 85.0%, Avg loss: 0.426790\n",
      "Precision: 84.9%, Recall: 85.0% \n",
      "\n",
      "Epoch 3\n",
      "-------------------------------\n",
      "loss: 0.402106  [   64/60000]\n",
      "loss: 0.381608  [ 6464/60000]\n",
      "loss: 0.470575  [12864/60000]\n",
      "loss: 0.356209  [19264/60000]\n",
      "loss: 0.276449  [25664/60000]\n",
      "loss: 0.211530  [32064/60000]\n",
      "loss: 0.432274  [38464/60000]\n",
      "loss: 0.498946  [44864/60000]\n",
      "loss: 0.437307  [51264/60000]\n",
      "loss: 0.204816  [57664/60000]\n",
      "Min loss: 0.117232\n",
      "Test Error: \n",
      " Accuracy: 85.8%, Avg loss: 0.412339\n",
      "Precision: 85.9%, Recall: 85.8% \n",
      "\n",
      "Epoch 4\n",
      "-------------------------------\n",
      "loss: 0.445718  [   64/60000]\n",
      "loss: 0.272333  [ 6464/60000]\n",
      "loss: 0.416527  [12864/60000]\n",
      "loss: 0.313367  [19264/60000]\n",
      "loss: 0.240788  [25664/60000]\n",
      "loss: 0.307330  [32064/60000]\n",
      "loss: 0.260008  [38464/60000]\n",
      "loss: 0.275443  [44864/60000]\n",
      "loss: 0.300237  [51264/60000]\n",
      "loss: 0.325026  [57664/60000]\n",
      "Min loss: 0.093996\n",
      "Test Error: \n",
      " Accuracy: 86.4%, Avg loss: 0.382091\n",
      "Precision: 86.3%, Recall: 86.4% \n",
      "\n",
      "Epoch 5\n",
      "-------------------------------\n",
      "loss: 0.157882  [   64/60000]\n",
      "loss: 0.368006  [ 6464/60000]\n",
      "loss: 0.274337  [12864/60000]\n",
      "loss: 0.351091  [19264/60000]\n",
      "loss: 0.289071  [25664/60000]\n",
      "loss: 0.350729  [32064/60000]\n",
      "loss: 0.432357  [38464/60000]\n",
      "loss: 0.232902  [44864/60000]\n",
      "loss: 0.365458  [51264/60000]\n",
      "loss: 0.298615  [57664/60000]\n",
      "Min loss: 0.080029\n",
      "Test Error: \n",
      " Accuracy: 86.0%, Avg loss: 0.390891\n",
      "Precision: 86.2%, Recall: 86.0% \n",
      "\n",
      "Epoch 6\n",
      "-------------------------------\n",
      "loss: 0.332717  [   64/60000]\n",
      "loss: 0.388980  [ 6464/60000]\n",
      "loss: 0.218280  [12864/60000]\n",
      "loss: 0.287119  [19264/60000]\n",
      "loss: 0.285887  [25664/60000]\n",
      "loss: 0.213361  [32064/60000]\n",
      "loss: 0.540105  [38464/60000]\n",
      "loss: 0.298391  [44864/60000]\n",
      "loss: 0.154460  [51264/60000]\n",
      "loss: 0.338534  [57664/60000]\n",
      "Min loss: 0.061561\n",
      "Test Error: \n",
      " Accuracy: 86.9%, Avg loss: 0.373477\n",
      "Precision: 86.8%, Recall: 86.9% \n",
      "\n",
      "Epoch 7\n",
      "-------------------------------\n",
      "loss: 0.289892  [   64/60000]\n",
      "loss: 0.310050  [ 6464/60000]\n",
      "loss: 0.221227  [12864/60000]\n",
      "loss: 0.292351  [19264/60000]\n",
      "loss: 0.082515  [25664/60000]\n",
      "loss: 0.225556  [32064/60000]\n",
      "loss: 0.257483  [38464/60000]\n",
      "loss: 0.258163  [44864/60000]\n",
      "loss: 0.252290  [51264/60000]\n",
      "loss: 0.130357  [57664/60000]\n",
      "Min loss: 0.069912\n",
      "Test Error: \n",
      " Accuracy: 86.7%, Avg loss: 0.378575\n",
      "Precision: 87.1%, Recall: 86.7% \n",
      "\n",
      "Epoch 8\n",
      "-------------------------------\n",
      "loss: 0.244980  [   64/60000]\n",
      "loss: 0.246795  [ 6464/60000]\n",
      "loss: 0.348669  [12864/60000]\n",
      "loss: 0.246217  [19264/60000]\n",
      "loss: 0.299455  [25664/60000]\n",
      "loss: 0.382631  [32064/60000]\n",
      "loss: 0.189986  [38464/60000]\n",
      "loss: 0.263516  [44864/60000]\n",
      "loss: 0.384171  [51264/60000]\n",
      "loss: 0.244495  [57664/60000]\n",
      "Min loss: 0.062038\n",
      "Test Error: \n",
      " Accuracy: 86.8%, Avg loss: 0.374337\n",
      "Precision: 87.0%, Recall: 86.8% \n",
      "\n",
      "Epoch 9\n",
      "-------------------------------\n",
      "loss: 0.315435  [   64/60000]\n",
      "loss: 0.151435  [ 6464/60000]\n",
      "loss: 0.212097  [12864/60000]\n",
      "loss: 0.204258  [19264/60000]\n",
      "loss: 0.194836  [25664/60000]\n",
      "loss: 0.317254  [32064/60000]\n",
      "loss: 0.283423  [38464/60000]\n",
      "loss: 0.207220  [44864/60000]\n",
      "loss: 0.278287  [51264/60000]\n",
      "loss: 0.326323  [57664/60000]\n",
      "Min loss: 0.046942\n",
      "Test Error: \n",
      " Accuracy: 87.2%, Avg loss: 0.373721\n",
      "Precision: 87.4%, Recall: 87.2% \n",
      "\n",
      "Epoch 10\n",
      "-------------------------------\n",
      "loss: 0.264182  [   64/60000]\n",
      "loss: 0.256526  [ 6464/60000]\n",
      "loss: 0.212903  [12864/60000]\n",
      "loss: 0.154212  [19264/60000]\n",
      "loss: 0.162944  [25664/60000]\n",
      "loss: 0.196902  [32064/60000]\n",
      "loss: 0.236109  [38464/60000]\n",
      "loss: 0.251677  [44864/60000]\n",
      "loss: 0.193998  [51264/60000]\n",
      "loss: 0.208665  [57664/60000]\n",
      "Min loss: 0.054595\n",
      "Test Error: \n",
      " Accuracy: 87.3%, Avg loss: 0.365097\n",
      "Precision: 87.2%, Recall: 87.3% \n",
      "\n"
     ]
    }
   ],
   "source": [
    "epochs = 10\n",
    "#model = NeuralNetwork().to(device)\n",
    "\n",
    "\n",
    "for t in range(epochs):\n",
    "    print(f\"Epoch {t+1}\\n-------------------------------\")\n",
    "    # ваш код\n",
    "#    train_dataloader = DataLoader(train_data, batch_size=64, shuffle=True)\n",
    "#    test_dataloader = DataLoader(test_data, batch_size=64, shuffle=True)\n",
    "    \n",
    "\n",
    "    train(train_dataloader, model, loss_fn, optimizer)\n",
    "    test(test_dataloader, model, loss_fn)\n"
   ]
  },
  {
   "cell_type": "markdown",
   "id": "f45a2f7c",
   "metadata": {},
   "source": [
    "Осталось сохранить модель для дальнейшего использования. "
   ]
  },
  {
   "cell_type": "code",
   "execution_count": 132,
   "id": "1ec53cf5",
   "metadata": {},
   "outputs": [],
   "source": [
    "torch.save(model.state_dict(), \"best_model.pth\")"
   ]
  },
  {
   "cell_type": "markdown",
   "id": "f674ae5e",
   "metadata": {},
   "source": [
    "Какая точность получилась? "
   ]
  },
  {
   "cell_type": "markdown",
   "id": "de5de00f",
   "metadata": {},
   "source": [
    "Задание: Перепишите датасет FashionMNISTDataset так, чтобы он возвращал вектор вместо матрицы и мою модель без слоя MyFlatten(). Запустите обучение заново. Какая точность получилась теперь?"
   ]
  },
  {
   "cell_type": "markdown",
   "id": "e2fab8d7",
   "metadata": {},
   "source": [
    "Задание: придумайте свою собственную модель, на следующем занятии сравнимся, у кого получилось достичь наилучших результатов. Для этого мне нужно будет получить как вашу версию этого ноутбука, так и веса модели."
   ]
  },
  {
   "cell_type": "markdown",
   "id": "acc2e232",
   "metadata": {},
   "source": [
    "При подборе гиперпараметров (это те параметры, которые не обучаются, например, lr) и обучении модели помните:\n",
    "1. Если параметры выбраны хорошо, улучшение видно уже после нескольких сотен итераций.\n",
    "2. Настраивайте гиперпараметры от грубых значений к точным: начните с тестирования большого диапазона гиперпараметров всего за несколько итераций обучения, чтобы найти комбинации параметров, которые вообще работают.\n",
    "3. После того, как вы нашли несколько наборов параметров, которые, по-видимому, работают, выполните более тщательный поиск по этим параметрам. Возможно, вам придется тренировать модель большее число эпох.\n",
    "4. Нужно использовать валидационный набор для поиска. Этот набор нужно выделить из тренировочного и вызывать на нем функцию test."
   ]
  },
  {
   "cell_type": "markdown",
   "id": "4e04f82d",
   "metadata": {},
   "source": [
    "Задание: Перепишите датасет FashionMNISTDataset так, чтобы он возвращал вектор вместо матрицы"
   ]
  },
  {
   "cell_type": "code",
   "execution_count": null,
   "metadata": {
    "collapsed": false
   },
   "outputs": [],
   "source": []
  }
 ],
 "metadata": {
  "kernelspec": {
   "display_name": "Python 3 (ipykernel)",
   "language": "python",
   "name": "python3"
  },
  "language_info": {
   "codemirror_mode": {
    "name": "ipython",
    "version": 3
   },
   "file_extension": ".py",
   "mimetype": "text/x-python",
   "name": "python",
   "nbconvert_exporter": "python",
   "pygments_lexer": "ipython3",
   "version": "3.12.6"
  }
 },
 "nbformat": 4,
 "nbformat_minor": 5
}
