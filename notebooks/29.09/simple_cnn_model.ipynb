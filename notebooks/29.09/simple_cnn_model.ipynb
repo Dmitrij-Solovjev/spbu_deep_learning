{
 "cells": [
  {
   "cell_type": "markdown",
   "id": "eb07947b",
   "metadata": {},
   "source": [
    "# Сверточная сеть\n",
    "В этом ноутбуке мы расширим предыдущий и создадим первую сверточную сеть"
   ]
  },
  {
   "cell_type": "code",
   "execution_count": 1,
   "id": "bf7c9b27",
   "metadata": {},
   "outputs": [],
   "source": [
    "import torch\n",
    "from torch import nn\n",
    "from torch.utils.data import DataLoader, Dataset\n",
    "from torchvision import datasets\n",
    "from torchvision.transforms import ToTensor\n",
    "from matplotlib import pyplot as plt"
   ]
  },
  {
   "cell_type": "code",
   "execution_count": 2,
   "id": "45ad1ada",
   "metadata": {},
   "outputs": [],
   "source": [
    "import os\n",
    "import pandas as pd\n",
    "from torchvision.io import read_image\n"
   ]
  },
  {
   "cell_type": "markdown",
   "id": "54aebe5f",
   "metadata": {},
   "source": [
    "# Создание датасета"
   ]
  },
  {
   "cell_type": "markdown",
   "id": "71d937ef",
   "metadata": {},
   "source": [
    "Загрузим FashionMNIST (https://github.com/zalandoresearch/fashion-mnist)\n"
   ]
  },
  {
   "cell_type": "code",
   "execution_count": 3,
   "id": "84744d19",
   "metadata": {},
   "outputs": [
    {
     "name": "stdout",
     "output_type": "stream",
     "text": [
      "Downloading http://fashion-mnist.s3-website.eu-central-1.amazonaws.com/train-images-idx3-ubyte.gz\n",
      "Downloading http://fashion-mnist.s3-website.eu-central-1.amazonaws.com/train-images-idx3-ubyte.gz to ../../datasets/FashionMNIST/raw/train-images-idx3-ubyte.gz\n"
     ]
    },
    {
     "name": "stderr",
     "output_type": "stream",
     "text": [
      "100.0%\n"
     ]
    },
    {
     "name": "stdout",
     "output_type": "stream",
     "text": [
      "Extracting ../../datasets/FashionMNIST/raw/train-images-idx3-ubyte.gz to ../../datasets/FashionMNIST/raw\n",
      "\n",
      "Downloading http://fashion-mnist.s3-website.eu-central-1.amazonaws.com/train-labels-idx1-ubyte.gz\n"
     ]
    },
    {
     "name": "stderr",
     "output_type": "stream",
     "text": [
      "100.0%"
     ]
    },
    {
     "name": "stdout",
     "output_type": "stream",
     "text": [
      "Downloading http://fashion-mnist.s3-website.eu-central-1.amazonaws.com/train-labels-idx1-ubyte.gz to ../../datasets/FashionMNIST/raw/train-labels-idx1-ubyte.gz\n",
      "Extracting ../../datasets/FashionMNIST/raw/train-labels-idx1-ubyte.gz to ../../datasets/FashionMNIST/raw\n",
      "\n",
      "Downloading http://fashion-mnist.s3-website.eu-central-1.amazonaws.com/t10k-images-idx3-ubyte.gz\n"
     ]
    },
    {
     "name": "stderr",
     "output_type": "stream",
     "text": [
      "\n",
      "3.7%"
     ]
    },
    {
     "name": "stdout",
     "output_type": "stream",
     "text": [
      "Downloading http://fashion-mnist.s3-website.eu-central-1.amazonaws.com/t10k-images-idx3-ubyte.gz to ../../datasets/FashionMNIST/raw/t10k-images-idx3-ubyte.gz\n"
     ]
    },
    {
     "name": "stderr",
     "output_type": "stream",
     "text": [
      "100.0%\n"
     ]
    },
    {
     "name": "stdout",
     "output_type": "stream",
     "text": [
      "Extracting ../../datasets/FashionMNIST/raw/t10k-images-idx3-ubyte.gz to ../../datasets/FashionMNIST/raw\n",
      "\n",
      "Downloading http://fashion-mnist.s3-website.eu-central-1.amazonaws.com/t10k-labels-idx1-ubyte.gz\n",
      "Downloading http://fashion-mnist.s3-website.eu-central-1.amazonaws.com/t10k-labels-idx1-ubyte.gz to ../../datasets/FashionMNIST/raw/t10k-labels-idx1-ubyte.gz\n"
     ]
    },
    {
     "name": "stderr",
     "output_type": "stream",
     "text": [
      "100.0%"
     ]
    },
    {
     "name": "stdout",
     "output_type": "stream",
     "text": [
      "Extracting ../../datasets/FashionMNIST/raw/t10k-labels-idx1-ubyte.gz to ../../datasets/FashionMNIST/raw\n",
      "\n"
     ]
    },
    {
     "name": "stderr",
     "output_type": "stream",
     "text": [
      "\n"
     ]
    }
   ],
   "source": [
    "train_data = datasets.FashionMNIST(\n",
    "    root=\"../../datasets\",\n",
    "    train=True,\n",
    "    download=True,\n",
    "    transform=ToTensor(),\n",
    ")\n",
    "\n",
    "# Download test data from open datasets.\n",
    "test_data = datasets.FashionMNIST(\n",
    "    root=\"../../datasets\",\n",
    "    train=False,\n",
    "    download=True,\n",
    "    transform=ToTensor(),\n",
    ")"
   ]
  },
  {
   "cell_type": "code",
   "execution_count": 4,
   "id": "cdfc853a",
   "metadata": {},
   "outputs": [],
   "source": [
    "labels_map = {\n",
    "    0: \"T-Shirt\",\n",
    "    1: \"Trouser\",\n",
    "    2: \"Pullover\",\n",
    "    3: \"Dress\",\n",
    "    4: \"Coat\",\n",
    "    5: \"Sandal\",\n",
    "    6: \"Shirt\",\n",
    "    7: \"Sneaker\",\n",
    "    8: \"Bag\",\n",
    "    9: \"Ankle Boot\",\n",
    "}"
   ]
  },
  {
   "cell_type": "code",
   "execution_count": 5,
   "id": "dc9d3d8f",
   "metadata": {},
   "outputs": [],
   "source": [
    "def plot_samples(data, labels_map, cols=3, rows=3):\n",
    "    figure = plt.figure(figsize=(8, 8))\n",
    "    for i in range(1, cols * rows + 1):\n",
    "        sample_idx = torch.randint(len(data), size=(1,)).item()\n",
    "        img, label = data[sample_idx]\n",
    "        figure.add_subplot(rows, cols, i)\n",
    "        if type(label) == torch.Tensor:\n",
    "            plt.title(labels_map[label.item()])\n",
    "        else:\n",
    "            plt.title(labels_map[label])\n",
    "        plt.axis(\"off\")\n",
    "        plt.imshow(img.squeeze(), cmap=\"gray\")\n",
    "    plt.show()"
   ]
  },
  {
   "cell_type": "code",
   "execution_count": 6,
   "id": "6f1c8745",
   "metadata": {},
   "outputs": [
    {
     "data": {
      "image/png": "[encoded data removed]",
      "text/plain": [
       "<Figure size 800x800 with 9 Axes>"
      ]
     },
     "metadata": {},
     "output_type": "display_data"
    }
   ],
   "source": [
    "plot_samples(train_data, labels_map, cols=3, rows=3)"
   ]
  },
  {
   "cell_type": "code",
   "execution_count": 7,
   "id": "6920b94f",
   "metadata": {},
   "outputs": [],
   "source": [
    "train_dataloader = DataLoader(train_data, batch_size=64, shuffle=True)\n",
    "test_dataloader = DataLoader(test_data, batch_size=64, shuffle=True)"
   ]
  },
  {
   "cell_type": "code",
   "execution_count": 8,
   "id": "15214288",
   "metadata": {},
   "outputs": [
    {
     "name": "stdout",
     "output_type": "stream",
     "text": [
      "Feature batch shape: torch.Size([64, 1, 28, 28])\n",
      "Labels batch shape: torch.Size([64])\n"
     ]
    },
    {
     "data": {
      "image/png": "[encoded data removed]",
      "text/plain": [
       "<Figure size 640x480 with 1 Axes>"
      ]
     },
     "metadata": {},
     "output_type": "display_data"
    },
    {
     "name": "stdout",
     "output_type": "stream",
     "text": [
      "Label: 0\n"
     ]
    }
   ],
   "source": [
    "train_features, train_labels = next(iter(train_dataloader))\n",
    "print(f\"Feature batch shape: {train_features.size()}\")\n",
    "print(f\"Labels batch shape: {train_labels.size()}\")\n",
    "img = train_features[0].squeeze().reshape(28,28)\n",
    "label = train_labels[0]\n",
    "plt.imshow(img, cmap=\"gray\")\n",
    "plt.show()\n",
    "print(f\"Label: {label}\")"
   ]
  },
  {
   "cell_type": "code",
   "execution_count": 9,
   "id": "188d5e11",
   "metadata": {},
   "outputs": [
    {
     "name": "stdout",
     "output_type": "stream",
     "text": [
      "Using cpu device\n"
     ]
    }
   ],
   "source": [
    "device = \"cuda\" if torch.cuda.is_available() else \"cpu\"\n",
    "print(f\"Using {device} device\")\n"
   ]
  },
  {
   "cell_type": "markdown",
   "id": "c2f9aa77",
   "metadata": {},
   "source": [
    "Теперь создадим класс модели и интстанциируем её. В данном случае это простой перцептрон с тремя слоями. Однако модель может быть сколько угодно сложной. Главное, чтобы она наследовала класс `nn.Module`. Более того, можно написать любой слой собственноручно, также отнаследовав этот класс.\n",
    "Каждая модель должна имплементировать два метода - `__init__` и `forward(self, *args, **kwargs)`. В первом обычно задается ее структура и другие параметры. Модель  может даже содержать другие модели!\n",
    "\n",
    "`forward` получает на вход Х, но он может получать несколько разных входов, маски и тд. Обычно возвращаются либо выходы с последнего слоя (один или несколько). Но, например, стандартные модели детекции возвращают в режиме обучения значение лосса, а непосредственные предсказания только в режиме тестирования.\n",
    "\n",
    "Вызывая `model(data)`, на самом деле мы вызываем именно метод `forward`\n",
    "\n",
    "Можете создавать модель со мной, можете придумать свою."
   ]
  },
  {
   "cell_type": "code",
   "execution_count": 10,
   "id": "276275b8",
   "metadata": {},
   "outputs": [
    {
     "name": "stdout",
     "output_type": "stream",
     "text": [
      "NeuralNetwork(\n",
      "  (base): Sequential(\n",
      "    (0): Conv2d(1, 32, kernel_size=(3, 3), stride=(1, 1), padding=(1, 1))\n",
      "    (1): BatchNorm2d(32, eps=1e-05, momentum=0.1, affine=True, track_running_stats=True)\n",
      "    (2): ReLU()\n",
      "    (3): Conv2d(32, 16, kernel_size=(3, 3), stride=(1, 1), padding=(1, 1))\n",
      "    (4): BatchNorm2d(16, eps=1e-05, momentum=0.1, affine=True, track_running_stats=True)\n",
      "    (5): ReLU()\n",
      "  )\n",
      "  (head): Linear(in_features=12544, out_features=10, bias=True)\n",
      ")\n"
     ]
    }
   ],
   "source": [
    "class NeuralNetwork(nn.Module):\n",
    "    def __init__(self):\n",
    "        super().__init__()\n",
    "        self.base = nn.Sequential(\n",
    "            # your code\n",
    "            nn.Conv2d(1, 32, 3, padding=1),\n",
    "            nn.BatchNorm2d(32),\n",
    "            nn.ReLU(),\n",
    "            nn.Conv2d(32, 16, 3, padding=1),\n",
    "            nn.BatchNorm2d(16),\n",
    "            nn.ReLU()\n",
    "\n",
    "        )\n",
    "        self.head = nn.Linear(16*28*28, 10)\n",
    "\n",
    "    def forward(self, x):\n",
    "        x = self.base(x)\n",
    "        # Необходимо превратить вход в вектор, чтобы можно было применить линейный слой\n",
    "\n",
    "        x = x.view(x.size(0), -1)\n",
    "        logits = self.head(x)\n",
    "        return logits\n",
    "\n",
    "model = NeuralNetwork().to(device)\n",
    "print(model)"
   ]
  },
  {
   "cell_type": "markdown",
   "metadata": {
    "collapsed": false
   },
   "source": [
    "Часто вместо решейпа перед головой используют пулинг. Это специальный слой, который накладывается на вход и позволяет получить его преобразование (max, avg) без весов:\n",
    "\n",
    "![alt text](../../additional_materials/images/max_pool.png \"Stride=1, padding=0\")\n",
    "\n",
    "Если сделать MaxPool2d или AvgPool2d с размером ядра, равным размеру входа, то получится вектор такого же размера, как исходное число каналов. Однако, все равно придется добавить дополнительное измерение.\n",
    "\n",
    "**Задание**: Измените модель, используя MaxPool или AvgPool вместо view(). Сравните результаты."
   ]
  },
  {
   "cell_type": "markdown",
   "id": "1eba191e",
   "metadata": {},
   "source": [
    "Зададим функцию ошибки и оптимизатор. Функция ошибки также наследуется от torch.nn.Module и может быть стандартной, состоять как из нескольких стандартных функций или их модификаций. Большое количество функций ошибки уже реализовано в Pytorch.\n",
    "\n",
    "Внутри каждой итерации обучения оптимизация происходит в три этапа:\n",
    "Вызов optimizer.zero_grad() для обнуления градиентов параметров модели. Градиенты по умолчанию складываются; чтобы избежать двойного подсчета, мы явно обнуляем их на каждой итерации.\n",
    "\n",
    "Получение градиентов для каждого веса с помощью loss.backward().\n",
    "Как только мы получили наши градиенты, остается вызвать optimizer.step(), чтобы изменить параметры в соответствии с нашим алгоритмом оптимизации. "
   ]
  },
  {
   "cell_type": "code",
   "execution_count": 11,
   "id": "eec223a3",
   "metadata": {},
   "outputs": [],
   "source": [
    "loss_fn = nn.CrossEntropyLoss()\n",
    "optimizer = torch.optim.SGD(model.parameters(), lr=1e-3)"
   ]
  },
  {
   "cell_type": "markdown",
   "id": "075289cb",
   "metadata": {},
   "source": [
    "Обучим модель. Для этого нужно описать цикл обучения и проверки модели. В наивном случае создается две функции train и validate (test), которые вызываются в цикле по эпохам. В дальнейшем, при усложнении прохода по эпохе, может появиться метод train, целый класс Trainer и т.д. Пока что реализуем наивный вариант."
   ]
  },
  {
   "cell_type": "code",
   "execution_count": 12,
   "id": "8931bac2",
   "metadata": {},
   "outputs": [],
   "source": [
    "def train(dataloader, model, loss_fn, optimizer):\n",
    "    size = len(dataloader.dataset)\n",
    "    model.train()\n",
    "    for batch_idx, (inputs, targets) in enumerate(dataloader):\n",
    "        inputs, targets = inputs.to(device), targets.to(device)\n",
    "\n",
    "        # Compute prediction error\n",
    "        preds = model(inputs)\n",
    "        loss = loss_fn(preds, targets)\n",
    "\n",
    "        # Backpropagation\n",
    "        optimizer.zero_grad()\n",
    "        loss.backward()\n",
    "        optimizer.step()\n",
    "\n",
    "        if batch_idx % 100 == 0:\n",
    "            loss, current = loss.item(), (batch_idx + 1) * len(inputs)\n",
    "            print(f\"loss: {loss:>7f}  [{current:>5d}/{size:>5d}]\")\n",
    "            \n",
    "        ''' Чтобы сделать задание со сравнением лоссов, не забудьте \n",
    "            реализовать трекинг минимального лосса  '''"
   ]
  },
  {
   "cell_type": "code",
   "execution_count": 13,
   "id": "289e5cbe",
   "metadata": {},
   "outputs": [],
   "source": [
    "def test(dataloader, model, loss_fn):\n",
    "    size = len(dataloader.dataset)\n",
    "    num_batches = len(dataloader)\n",
    "    model.eval()\n",
    "    test_loss, num_correct = 0, 0\n",
    "    with torch.no_grad():\n",
    "        for inputs, targets in dataloader:\n",
    "            # your code\n",
    "            preds = model(inputs)\n",
    "            test_loss += loss_fn(preds, targets)\n",
    "            preds_classes = torch.argmax(preds, dim=-1)\n",
    "            \n",
    "            num_correct += (preds_classes.squeeze() == targets.squeeze()).sum().item()\n",
    "    \n",
    "    test_loss /= num_batches\n",
    "    num_correct /= size\n",
    "    print(f\"Test Error: \\n Accuracy: {(100*num_correct):>0.1f}%, Avg loss: {test_loss:>8f} \\n\")\n",
    "    \n",
    "    ''' Чтобы сделать задание со сравнением лоссов, не забудьте \n",
    "            реализовать трекинг минимального лосса  '''"
   ]
  },
  {
   "cell_type": "markdown",
   "id": "873bd8ea",
   "metadata": {},
   "source": [
    "Задание: Добавьте метрики precision и recall для проверки"
   ]
  },
  {
   "cell_type": "code",
   "execution_count": 14,
   "id": "dc99a7ef",
   "metadata": {},
   "outputs": [
    {
     "name": "stdout",
     "output_type": "stream",
     "text": [
      "Epoch 1\n",
      "-------------------------------\n",
      "loss: 2.322700  [   64/60000]\n",
      "loss: 0.814124  [ 6464/60000]\n",
      "loss: 0.943794  [12864/60000]\n",
      "loss: 0.596665  [19264/60000]\n",
      "loss: 0.506306  [25664/60000]\n",
      "loss: 0.624358  [32064/60000]\n",
      "loss: 0.321809  [38464/60000]\n",
      "loss: 0.518991  [44864/60000]\n",
      "loss: 0.331774  [51264/60000]\n",
      "loss: 0.380143  [57664/60000]\n",
      "Test Error: \n",
      " Accuracy: 85.8%, Avg loss: 0.413118 \n",
      "\n",
      "Epoch 2\n",
      "-------------------------------\n",
      "loss: 0.512023  [   64/60000]\n",
      "loss: 0.309257  [ 6464/60000]\n",
      "loss: 0.383811  [12864/60000]\n",
      "loss: 0.348644  [19264/60000]\n",
      "loss: 0.264560  [25664/60000]\n",
      "loss: 0.371173  [32064/60000]\n",
      "loss: 0.273543  [38464/60000]\n",
      "loss: 0.426306  [44864/60000]\n",
      "loss: 0.506208  [51264/60000]\n",
      "loss: 0.456800  [57664/60000]\n",
      "Test Error: \n",
      " Accuracy: 87.5%, Avg loss: 0.361938 \n",
      "\n",
      "Epoch 3\n",
      "-------------------------------\n",
      "loss: 0.376857  [   64/60000]\n",
      "loss: 0.307506  [ 6464/60000]\n",
      "loss: 0.296611  [12864/60000]\n",
      "loss: 0.328146  [19264/60000]\n",
      "loss: 0.390284  [25664/60000]\n",
      "loss: 0.274721  [32064/60000]\n",
      "loss: 0.256144  [38464/60000]\n",
      "loss: 0.153835  [44864/60000]\n",
      "loss: 0.337518  [51264/60000]\n",
      "loss: 0.265695  [57664/60000]\n",
      "Test Error: \n",
      " Accuracy: 88.8%, Avg loss: 0.322423 \n",
      "\n",
      "Epoch 4\n",
      "-------------------------------\n",
      "loss: 0.285119  [   64/60000]\n",
      "loss: 0.364450  [ 6464/60000]\n",
      "loss: 0.307231  [12864/60000]\n",
      "loss: 0.302936  [19264/60000]\n",
      "loss: 0.191882  [25664/60000]\n",
      "loss: 0.522712  [32064/60000]\n",
      "loss: 0.514476  [38464/60000]\n",
      "loss: 0.302312  [44864/60000]\n",
      "loss: 0.456001  [51264/60000]\n",
      "loss: 0.186582  [57664/60000]\n",
      "Test Error: \n",
      " Accuracy: 89.4%, Avg loss: 0.304634 \n",
      "\n",
      "Epoch 5\n",
      "-------------------------------\n",
      "loss: 0.145888  [   64/60000]\n",
      "loss: 0.278227  [ 6464/60000]\n",
      "loss: 0.337814  [12864/60000]\n",
      "loss: 0.244923  [19264/60000]\n",
      "loss: 0.115655  [25664/60000]\n",
      "loss: 0.228133  [32064/60000]\n",
      "loss: 0.315397  [38464/60000]\n",
      "loss: 0.259844  [44864/60000]\n",
      "loss: 0.364089  [51264/60000]\n",
      "loss: 0.276684  [57664/60000]\n",
      "Test Error: \n",
      " Accuracy: 90.1%, Avg loss: 0.284862 \n",
      "\n",
      "Epoch 6\n",
      "-------------------------------\n",
      "loss: 0.282022  [   64/60000]\n",
      "loss: 0.221254  [ 6464/60000]\n",
      "loss: 0.425327  [12864/60000]\n",
      "loss: 0.361459  [19264/60000]\n",
      "loss: 0.333849  [25664/60000]\n",
      "loss: 0.419561  [32064/60000]\n",
      "loss: 0.337210  [38464/60000]\n",
      "loss: 0.405557  [44864/60000]\n",
      "loss: 0.268524  [51264/60000]\n",
      "loss: 0.465119  [57664/60000]\n",
      "Test Error: \n",
      " Accuracy: 90.1%, Avg loss: 0.282386 \n",
      "\n",
      "Epoch 7\n",
      "-------------------------------\n",
      "loss: 0.250997  [   64/60000]\n",
      "loss: 0.284317  [ 6464/60000]\n",
      "loss: 0.392218  [12864/60000]\n",
      "loss: 0.252888  [19264/60000]\n",
      "loss: 0.135447  [25664/60000]\n",
      "loss: 0.352027  [32064/60000]\n",
      "loss: 0.246650  [38464/60000]\n",
      "loss: 0.271530  [44864/60000]\n",
      "loss: 0.257310  [51264/60000]\n",
      "loss: 0.156919  [57664/60000]\n",
      "Test Error: \n",
      " Accuracy: 91.1%, Avg loss: 0.259777 \n",
      "\n",
      "Epoch 8\n",
      "-------------------------------\n",
      "loss: 0.286714  [   64/60000]\n",
      "loss: 0.221880  [ 6464/60000]\n",
      "loss: 0.234761  [12864/60000]\n",
      "loss: 0.158983  [19264/60000]\n",
      "loss: 0.226031  [25664/60000]\n",
      "loss: 0.254477  [32064/60000]\n",
      "loss: 0.341766  [38464/60000]\n",
      "loss: 0.155442  [44864/60000]\n",
      "loss: 0.295622  [51264/60000]\n",
      "loss: 0.291451  [57664/60000]\n",
      "Test Error: \n",
      " Accuracy: 91.3%, Avg loss: 0.255176 \n",
      "\n",
      "Epoch 9\n",
      "-------------------------------\n",
      "loss: 0.302333  [   64/60000]\n",
      "loss: 0.258309  [ 6464/60000]\n",
      "loss: 0.237402  [12864/60000]\n",
      "loss: 0.195382  [19264/60000]\n",
      "loss: 0.513246  [25664/60000]\n",
      "loss: 0.219713  [32064/60000]\n",
      "loss: 0.217824  [38464/60000]\n",
      "loss: 0.195067  [44864/60000]\n",
      "loss: 0.327744  [51264/60000]\n",
      "loss: 0.117519  [57664/60000]\n",
      "Test Error: \n",
      " Accuracy: 91.7%, Avg loss: 0.240477 \n",
      "\n",
      "Epoch 10\n",
      "-------------------------------\n",
      "loss: 0.229561  [   64/60000]\n",
      "loss: 0.238013  [ 6464/60000]\n",
      "loss: 0.433617  [12864/60000]\n",
      "loss: 0.147916  [19264/60000]\n",
      "loss: 0.265291  [25664/60000]\n",
      "loss: 0.190130  [32064/60000]\n",
      "loss: 0.487395  [38464/60000]\n",
      "loss: 0.211771  [44864/60000]\n",
      "loss: 0.249333  [51264/60000]\n",
      "loss: 0.138318  [57664/60000]\n",
      "Test Error: \n",
      " Accuracy: 91.9%, Avg loss: 0.233636 \n",
      "\n"
     ]
    }
   ],
   "source": [
    "epochs = 10\n",
    "for t in range(epochs):\n",
    "    print(f\"Epoch {t+1}\\n-------------------------------\")\n",
    "    train(train_dataloader, model, loss_fn, optimizer)\n",
    "    test(train_dataloader, model, loss_fn)\n",
    "    \n",
    "    # вызовите функции обучения и валидации"
   ]
  },
  {
   "cell_type": "markdown",
   "id": "f45a2f7c",
   "metadata": {},
   "source": [
    "Осталось сохранить модель для дальнейшего использования."
   ]
  },
  {
   "cell_type": "markdown",
   "id": "e2fab8d7",
   "metadata": {},
   "source": [
    "Задание: придумайте свою собственную модель, на следующем занятии сравнимся, у кого получилось достичь наилучших результатов."
   ]
  }
 ],
 "metadata": {
  "kernelspec": {
   "display_name": "Python 3 (ipykernel)",
   "language": "python",
   "name": "python3"
  },
  "language_info": {
   "codemirror_mode": {
    "name": "ipython",
    "version": 3
   },
   "file_extension": ".py",
   "mimetype": "text/x-python",
   "name": "python",
   "nbconvert_exporter": "python",
   "pygments_lexer": "ipython3",
   "version": "3.12.6"
  }
 },
 "nbformat": 4,
 "nbformat_minor": 5
}
